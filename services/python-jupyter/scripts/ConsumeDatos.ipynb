{
 "cells": [
  {
   "cell_type": "markdown",
   "metadata": {},
   "source": [
    "# Cuaderno para consumir de Presto\n",
    "\n",
    "En este cuaderno se muestra un ejemplo para consumir de l servicio de presto una vez  que los datos esten cargados a MinIO y las tbalas definidas en Hive-Metastore.\n"
   ]
  },
  {
   "cell_type": "markdown",
   "metadata": {},
   "source": [
    "## Librerias"
   ]
  },
  {
   "cell_type": "code",
   "execution_count": null,
   "metadata": {},
   "outputs": [],
   "source": [
    "import prestodb\n",
    "import pandas as pd"
   ]
  },
  {
   "cell_type": "markdown",
   "metadata": {},
   "source": [
    "## Definición de la coexión"
   ]
  },
  {
   "cell_type": "code",
   "execution_count": null,
   "metadata": {},
   "outputs": [],
   "source": [
    "conn=prestodb.dbapi.connect(\n",
    "    host='presto',\n",
    "    port=8080,\n",
    "    user='jupyter',\n",
    "    catalog='hive',\n",
    "    schema='default',\n",
    ")"
   ]
  },
  {
   "cell_type": "markdown",
   "metadata": {},
   "source": [
    "## Ejemplo \n",
    "\n",
    "Podemos definir las consultas como sql y obtener las tablas.\n",
    "En este ejemplo se seleccionan todos los datos de una tabla"
   ]
  },
  {
   "cell_type": "code",
   "execution_count": null,
   "metadata": {},
   "outputs": [],
   "source": [
    "cur = conn.cursor()\n",
    "cur.execute('SELECT * FROM conjunto_de_datos_erogaciones_enigh_2018_ns')\n",
    "rows = cur.fetchall()\n",
    "\n",
    "# El nombre de las columnas no se regresa al hacer la consulta por lo que se hace una consulta especial para estos \n",
    "cur = conn.cursor()\n",
    "cur.execute(\"SELECT column_name FROM information_schema.columns WHERE table_name = 'conjunto_de_datos_erogaciones_enigh_2018_ns'\")\n",
    "columns = cur.fetchall()\n",
    "\n",
    "pd.DataFrame(rows,columns=[x[0] for x in columns])"
   ]
  },
  {
   "cell_type": "markdown",
   "metadata": {},
   "source": [
    "Podemos tambien obterner todos los nombres de las tablas definidas en el schema"
   ]
  },
  {
   "cell_type": "code",
   "execution_count": null,
   "metadata": {},
   "outputs": [],
   "source": [
    "cur.execute(\"SHOW TABLES\")\n",
    "tables = cur.fetchall()\n",
    "tables"
   ]
  },
  {
   "cell_type": "markdown",
   "metadata": {},
   "source": [
    "En este ejemplo hacemos la consulta de la poblacion total para 2018. La cual coincide con la tabla oficial publicada en \n",
    "\n",
    "https://www.inegi.org.mx/contenidos/programas/enigh/nc/2018/tabulados/enigh2018_ns_basicos_tabulados.xlsx"
   ]
  },
  {
   "cell_type": "code",
   "execution_count": null,
   "metadata": {},
   "outputs": [],
   "source": [
    "cur.execute(\"\"\" \n",
    "SELECT SUM(INTEGRANTES*FACTOR) AS POBLACION\n",
    "FROM conjunto_de_datos_vivienda_enigh_2018_ns AS VIV\n",
    "INNER JOIN (\n",
    "    SELECT FOLIOVIV, COUNT(*) AS INTEGRANTES\n",
    "    FROM conjunto_de_datos_poblacion_enigh_2018_ns \n",
    "    GROUP BY FOLIOVIV\n",
    ") POB \n",
    "ON VIV.FOLIOVIV = POB.FOLIOVIV\n",
    "\"\"\")\n",
    "RES = cur.fetchall()\n",
    "\n",
    "\"{:,}\".format(int(RES[0][0]))"
   ]
  },
  {
   "cell_type": "markdown",
   "metadata": {},
   "source": [
    "LA información anterior puede ser desglosada por grupos de edad "
   ]
  },
  {
   "cell_type": "code",
   "execution_count": null,
   "metadata": {},
   "outputs": [],
   "source": [
    "cur.execute(\"\"\" \n",
    "SELECT G_EDAD, SUM(INTEGRANTES*FACTOR) AS POBLACION\n",
    "FROM conjunto_de_datos_vivienda_enigh_2018_ns AS VIV\n",
    "INNER JOIN (\n",
    "    SELECT FOLIOVIV, G_EDAD, COUNT(*) AS INTEGRANTES\n",
    "    FROM (SELECT FOLIOVIV, CASE \n",
    "            WHEN EDAD < 5 THEN '00-04 AÑOS'\n",
    "            WHEN EDAD BETWEEN 5 AND 11 THEN '05-11 AÑOS'\n",
    "            WHEN EDAD BETWEEN 12 AND 19 THEN '12-19 AÑOS'\n",
    "            WHEN EDAD BETWEEN 20 AND 29 THEN '20-29 AÑOS'\n",
    "            WHEN EDAD BETWEEN 30 AND 39 THEN '30-39 AÑOS'\n",
    "            WHEN EDAD BETWEEN 40 AND 49 THEN '40-49 AÑOS'\n",
    "            WHEN EDAD BETWEEN 50 AND 59 THEN '50-59 AÑOS'\n",
    "            WHEN EDAD > 59  THEN '60 Y MÁS AÑOS'\n",
    "            END AS G_EDAD\n",
    "        FROM conjunto_de_datos_poblacion_enigh_2018_ns \n",
    "    )\n",
    "    GROUP BY FOLIOVIV, G_EDAD\n",
    ") POB \n",
    "ON VIV.FOLIOVIV = POB.FOLIOVIV\n",
    "GROUP BY G_EDAD\n",
    "\"\"\")\n",
    "RES2 = cur.fetchall()"
   ]
  },
  {
   "cell_type": "code",
   "execution_count": null,
   "metadata": {},
   "outputs": [],
   "source": [
    "datos = pd.DataFrame(RES2, columns = [\"G_EDAD\",\"POBLACION\"])\n",
    "datos[\"formato\"] = datos[\"POBLACION\"].astype(int).apply(lambda x: \"{:,}\".format(x))\n",
    "datos.sort_values(\"G_EDAD\")"
   ]
  },
  {
   "cell_type": "code",
   "execution_count": null,
   "metadata": {},
   "outputs": [],
   "source": []
  }
 ],
 "metadata": {
  "kernelspec": {
   "display_name": "Python 3",
   "language": "python",
   "name": "python3"
  },
  "language_info": {
   "codemirror_mode": {
    "name": "ipython",
    "version": 3
   },
   "file_extension": ".py",
   "mimetype": "text/x-python",
   "name": "python",
   "nbconvert_exporter": "python",
   "pygments_lexer": "ipython3",
   "version": "3.8.6"
  }
 },
 "nbformat": 4,
 "nbformat_minor": 4
}
