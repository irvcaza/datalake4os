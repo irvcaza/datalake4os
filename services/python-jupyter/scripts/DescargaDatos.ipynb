{
 "cells": [
  {
   "cell_type": "markdown",
   "metadata": {},
   "source": [
    "# Cuaderno para descargar datos \n",
    "\n",
    "Este cuaderno descarga los datos de internet para cargarlos en el servicio de S3 (MinIO) \n",
    "\n",
    "Despues de ejecutar este cuaderno se utiliza CargaObjetos.ipynb"
   ]
  },
  {
   "cell_type": "markdown",
   "metadata": {},
   "source": [
    "## Librerias"
   ]
  },
  {
   "cell_type": "code",
   "execution_count": null,
   "metadata": {},
   "outputs": [],
   "source": [
    "import requests\n",
    "import os\n",
    "import zipfile"
   ]
  },
  {
   "cell_type": "markdown",
   "metadata": {},
   "source": [
    "## Ejecución"
   ]
  },
  {
   "cell_type": "code",
   "execution_count": null,
   "metadata": {},
   "outputs": [],
   "source": [
    "urls_archivos = [\n",
    "    \"https://www.inegi.org.mx/contenidos/programas/enigh/nc/2018/datosabiertos/conjunto_de_datos_enigh_2018_ns_csv.zip\",\n",
    "    \"https://www.inegi.org.mx/contenidos/programas/enigh/nc/2016/datosabiertos/conjunto_de_datos_enigh2016_nueva_serie_csv.zip\",\n",
    "    \"https://www.inegi.org.mx/contenidos/programas/enigh/nc/2014/datosabiertos/enigh_ncv_2014_csv.zip\"\n",
    "]\n",
    "directorio_base = \"../data\""
   ]
  },
  {
   "cell_type": "markdown",
   "metadata": {},
   "source": [
    "Descarga de comprimidos"
   ]
  },
  {
   "cell_type": "code",
   "execution_count": null,
   "metadata": {},
   "outputs": [],
   "source": [
    "rutas_archivos = []\n",
    "for ruta in urls_archivos:\n",
    "    ruta_archivo = os.path.join(directorio_base, ruta.split(\"/\")[-1])\n",
    "    rutas_archivos.append(ruta_archivo)\n",
    "    archivo_descargado = requests.get(ruta)\n",
    "    open(ruta_archivo , 'wb').write(archivo_descargado.content)"
   ]
  },
  {
   "cell_type": "markdown",
   "metadata": {},
   "source": [
    "Decompresión de archivos zip"
   ]
  },
  {
   "cell_type": "code",
   "execution_count": null,
   "metadata": {},
   "outputs": [],
   "source": [
    "for ruta_zip in rutas_archivos:\n",
    "    ruta_directorio = ruta_zip.replace(\".zip\",\"\")\n",
    "    with zipfile.ZipFile(ruta_zip) as z:\n",
    "        z.extractall(ruta_directorio)"
   ]
  },
  {
   "cell_type": "markdown",
   "metadata": {},
   "source": [
    "### Correción de archivos\n",
    "\n",
    "En un archivo se encontró un problema que provoca que la definición de taba no se pueda hacer de manera satsfactoria.\n",
    "\n",
    "Para evitar esto modificamos el archivo a su estado esperado"
   ]
  },
  {
   "cell_type": "code",
   "execution_count": null,
   "metadata": {},
   "outputs": [],
   "source": [
    "ruta_csv = os.path.join(\"../data\",\"conjunto_de_datos_enigh_2018_ns_csv/conjunto_de_datos_poblacion_enigh_2018_ns/diccionario_de_datos/diccionario_datos_poblacion_enigh_2018_ns.csv\")\n",
    "ruta_csv_nuevo = ruta_csv.replace(\".csv\",\"_2.csv\")\n",
    "\n",
    "with open(ruta_csv_nuevo,\"w\",encoding=\"Latin-1\") as salida:\n",
    "    with open(ruta_csv,\"r\", encoding=\"Latin-1\") as entrada:\n",
    "        for linea in entrada:\n",
    "            if linea.startswith(\"81\"):\n",
    "                linea = '81,segpop,\"Afiliación al Seguro Popular, que es un seguro médico público voluntario dirigido a las personas sin seguridad social en salud con el fin de evitar empobrecimiento por causa de gastos médicos de bolsillo y mejorar las condiciones de salud.\",C (1),,\"{1,2}\"\\n'\n",
    "            salida.write(linea)\n",
    "\n",
    "os.replace(ruta_csv_nuevo, ruta_csv)"
   ]
  },
  {
   "cell_type": "code",
   "execution_count": null,
   "metadata": {},
   "outputs": [],
   "source": []
  }
 ],
 "metadata": {
  "kernelspec": {
   "display_name": "Python 3",
   "language": "python",
   "name": "python3"
  },
  "language_info": {
   "codemirror_mode": {
    "name": "ipython",
    "version": 3
   },
   "file_extension": ".py",
   "mimetype": "text/x-python",
   "name": "python",
   "nbconvert_exporter": "python",
   "pygments_lexer": "ipython3",
   "version": "3.8.6"
  }
 },
 "nbformat": 4,
 "nbformat_minor": 4
}
