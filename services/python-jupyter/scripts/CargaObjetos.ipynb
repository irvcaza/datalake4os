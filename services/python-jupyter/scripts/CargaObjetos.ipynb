{
 "cells": [
  {
   "cell_type": "markdown",
   "metadata": {},
   "source": [
    "# Cuaderno para cargar archivos a MinIO"
   ]
  },
  {
   "cell_type": "markdown",
   "metadata": {},
   "source": [
    "En este cuaderno se muestran algunas funciones de ayuda y algunos ejemplos para cargar archivos y directorios completos a MinIO.\n",
    "\n",
    "Este ejemplo asume que ya se ejecutó el cuadreno DescargaDatos.ipynb"
   ]
  },
  {
   "cell_type": "markdown",
   "metadata": {},
   "source": [
    "## Librerias"
   ]
  },
  {
   "cell_type": "code",
   "execution_count": null,
   "metadata": {},
   "outputs": [],
   "source": [
    "from minio import Minio\n",
    "from minio.error import S3Error\n",
    "import os\n",
    "from minio.deleteobjects import DeleteObject"
   ]
  },
  {
   "cell_type": "markdown",
   "metadata": {},
   "source": [
    "## Configuración de conexión"
   ]
  },
  {
   "cell_type": "code",
   "execution_count": null,
   "metadata": {},
   "outputs": [],
   "source": [
    "client = Minio(\n",
    "        \"minio:9000\",\n",
    "        access_key=\"minio\",\n",
    "        secret_key=\"minio123\",\n",
    "        secure=False\n",
    "    )"
   ]
  },
  {
   "cell_type": "markdown",
   "metadata": {},
   "source": [
    "## Funciones de ayuda\n",
    "\n",
    "Algunas funciones que nos ayudan a subir archivos y directorios completos de manera recursiva"
   ]
  },
  {
   "cell_type": "code",
   "execution_count": null,
   "metadata": {},
   "outputs": [],
   "source": [
    "# Crear una cubeta para almacenar datos\n",
    "def create_bucket(client, bucket):\n",
    "    if client.bucket_exists(bucket):\n",
    "        print(\"Bucket {} already exists\".format(bucket))\n",
    "    else:\n",
    "        client.make_bucket(bucket)\n",
    "    \n",
    "# Copia un solo archivo \n",
    "def copy_file(client,bucket,file_path,dest_folder=\"\"):\n",
    "    file_name= os.path.basename(file_path)\n",
    "    client.fput_object(bucket, os.path.join(dest_folder,file_name), file_path)\n",
    "    #print(\"File {} copied to {}\".format(file_path,os.path.join(dest_folder,file_name)))\n",
    "    \n",
    "# Copia todo el contenido de un directorio de manera recursiva manteniendo el esquema de archivos\n",
    "def copy_folder(client,bucket,folder_path,dest_folder=\"\"):\n",
    "    folder_name = os.path.basename(folder_path)\n",
    "    dest_folder = os.path.join(dest_folder, folder_name)\n",
    "    for file_name in os.listdir(folder_path):\n",
    "        file_path = os.path.join(folder_path, file_name)\n",
    "        if os.path.isdir(file_path): \n",
    "            copy_folder(client,bucket,file_path,dest_folder)\n",
    "        else:\n",
    "            copy_file(client,bucket,file_path,dest_folder)\n",
    "            \n",
    "# Borrra todos los objetos que esten en un directorio de MinIO. USar con mucho cuidado\n",
    "def delete_objects(client,bucket,prefix=None):\n",
    "    names = map(\n",
    "        lambda x: DeleteObject(x.object_name),\n",
    "        client.list_objects(bucket, prefix, recursive=True)\n",
    "    )\n",
    "    for err in client.remove_objects(bucket, names):\n",
    "        print(\"Deletion Error: {}\".format(err))"
   ]
  },
  {
   "cell_type": "markdown",
   "metadata": {},
   "source": [
    "## Ejemplo de datos\n",
    "\n",
    "Aqui se muestra un ejemplo con datos abiertos de INEGI de la encuesta ENIGH. Para descargar y descomprimir los archivos en sus locaciones adecuadas por favor utilice el cuaderno DescargaDatos.ipynb\n",
    "\n",
    "Para este ejemplo funcional los datos se deben cargar a la capeta warehouse/ de MinIO ya que es la que esta conectada a Hive-Metastore\n"
   ]
  },
  {
   "cell_type": "code",
   "execution_count": null,
   "metadata": {},
   "outputs": [],
   "source": [
    "copy_folder(client, \"hive\", \"../data/conjunto_de_datos_enigh_2018_ns_csv\",\"warehouse/\")\n",
    "copy_folder(client, \"hive\", \"../data/conjunto_de_datos_enigh2016_nueva_serie_csv\",\"warehouse/\")\n",
    "copy_folder(client, \"hive\", \"../data/enigh_ncv_2014_csv\",\"warehouse/\")"
   ]
  },
  {
   "cell_type": "code",
   "execution_count": null,
   "metadata": {},
   "outputs": [],
   "source": []
  }
 ],
 "metadata": {
  "kernelspec": {
   "display_name": "Python 3",
   "language": "python",
   "name": "python3"
  },
  "language_info": {
   "codemirror_mode": {
    "name": "ipython",
    "version": 3
   },
   "file_extension": ".py",
   "mimetype": "text/x-python",
   "name": "python",
   "nbconvert_exporter": "python",
   "pygments_lexer": "ipython3",
   "version": "3.8.6"
  }
 },
 "nbformat": 4,
 "nbformat_minor": 5
}
